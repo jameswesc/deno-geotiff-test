{
 "cells": [
  {
   "cell_type": "markdown",
   "metadata": {},
   "source": [
    "# Testing out Deno with GeoTiff\n",
    "\n",
    "Testing out the Deno jupyter kernel by using it to read in and render a geotiff file. The geotiff file is Sentinel-2 data taken from [Digital Earth Australia](https://maps.dea.ga.gov.au/) from somewhere on Bruny Island, Tasmania.\n",
    "\n",
    "## Read GeoTiff Data\n",
    "\n",
    "Reading in the file as bytes using `Deno.readFile`.\n",
    "Using the `geotiff` library to parse the GeoTiff file.\n",
    "The geotiff library wont actually load the bands into memory until we call readRasters."
   ]
  },
  {
   "cell_type": "markdown",
   "metadata": {},
   "source": [
    "# Testing Deno with Geotiff"
   ]
  },
  {
   "cell_type": "code",
   "execution_count": 8,
   "metadata": {},
   "outputs": [],
   "source": [
    "import { fromArrayBuffer } from \"npm:geotiff\"\n",
    "// Read all the file in\n",
    "const fileBytes = await Deno.readFile(\"./sentinel_2_test.tiff\")\n",
    "const tiff = await fromArrayBuffer(fileBytes.buffer)\n",
    "const image = await tiff.getImage(0)\n",
    "\n",
    "// TODO - pretty print / format metadata\n",
    "// image.fileDirectory.GDAL_METADATA\n"
   ]
  },
  {
   "cell_type": "markdown",
   "metadata": {},
   "source": [
    "## Read in select bands\n",
    "\n",
    "Load selected bands into the red, green and blue channels."
   ]
  },
  {
   "cell_type": "code",
   "execution_count": 9,
   "metadata": {},
   "outputs": [],
   "source": [
    "const [red, green, blue] = await image.readRasters({ samples: [3, 2, 1] })"
   ]
  },
  {
   "cell_type": "markdown",
   "metadata": {},
   "source": [
    "## Setup stretch functions\n",
    "\n",
    "I want to copy ENVI's default linear 2% stretch. This is a linear stretch that stretches the 2nd percentile to 98th percentile of the data to the 0-255 range."
   ]
  },
  {
   "cell_type": "code",
   "execution_count": 10,
   "metadata": {},
   "outputs": [],
   "source": [
    "import { quantile } from 'npm:d3-array';\n",
    "import { scaleLinear } from 'npm:d3-scale';\n",
    "\n",
    "// // Calculate 2nd and 98th percentiles\n",
    "const blue2nd = quantile(blue.filter(d => d != -999), 0.02);\n",
    "const blue98th = quantile(blue.filter(d => d != -999), 0.98);\n",
    "const red2nd = quantile(red.filter(d => d != -999), 0.02);\n",
    "const red98th = quantile(red.filter(d => d != -999), 0.98);\n",
    "const green2nd = quantile(green.filter(d => d != -999), 0.02);\n",
    "const green98th = quantile(green.filter(d => d != -999), 0.98);\n",
    "\n",
    "// // Create new linear scales\n",
    "const blueScale = scaleLinear([blue2nd, blue98th], [0, 255]).clamp(true);\n",
    "const redScale = scaleLinear([red2nd, red98th], [0, 255]).clamp(true);\n",
    "const greenScale = scaleLinear([green2nd, green98th], [0, 255]).clamp(true);"
   ]
  },
  {
   "cell_type": "markdown",
   "metadata": {},
   "source": [
    "## Create image\n",
    "\n",
    "Create an pixel array of the correct size and fill it with the stretched data."
   ]
  },
  {
   "cell_type": "code",
   "execution_count": 12,
   "metadata": {},
   "outputs": [
    {
     "data": {
      "text/plain": [
       "ImageData {\n",
       "  data: Uint8ClampedArray(15270528) [\n",
       "    \u001b[33m4\u001b[39m, \u001b[33m1\u001b[39m, \u001b[33m12\u001b[39m, \u001b[33m255\u001b[39m, \u001b[33m4\u001b[39m, \u001b[33m1\u001b[39m, \u001b[33m12\u001b[39m, \u001b[33m255\u001b[39m, \u001b[33m5\u001b[39m, \u001b[33m1\u001b[39m, \u001b[33m23\u001b[39m, \u001b[33m255\u001b[39m,\n",
       "    \u001b[33m1\u001b[39m, \u001b[33m4\u001b[39m, \u001b[33m20\u001b[39m, \u001b[33m255\u001b[39m, \u001b[33m1\u001b[39m, \u001b[33m0\u001b[39m, \u001b[33m13\u001b[39m, \u001b[33m255\u001b[39m, \u001b[33m1\u001b[39m, \u001b[33m0\u001b[39m, \u001b[33m13\u001b[39m, \u001b[33m255\u001b[39m,\n",
       "    \u001b[33m2\u001b[39m, \u001b[33m1\u001b[39m, \u001b[33m14\u001b[39m, \u001b[33m255\u001b[39m, \u001b[33m2\u001b[39m, \u001b[33m4\u001b[39m, \u001b[33m23\u001b[39m, \u001b[33m255\u001b[39m, \u001b[33m2\u001b[39m, \u001b[33m4\u001b[39m, \u001b[33m23\u001b[39m, \u001b[33m255\u001b[39m,\n",
       "    \u001b[33m2\u001b[39m, \u001b[33m2\u001b[39m, \u001b[33m17\u001b[39m, \u001b[33m255\u001b[39m, \u001b[33m4\u001b[39m, \u001b[33m2\u001b[39m, \u001b[33m23\u001b[39m, \u001b[33m255\u001b[39m, \u001b[33m2\u001b[39m, \u001b[33m0\u001b[39m, \u001b[33m18\u001b[39m, \u001b[33m255\u001b[39m,\n",
       "    \u001b[33m2\u001b[39m, \u001b[33m0\u001b[39m, \u001b[33m18\u001b[39m, \u001b[33m255\u001b[39m, \u001b[33m1\u001b[39m, \u001b[33m1\u001b[39m, \u001b[33m13\u001b[39m, \u001b[33m255\u001b[39m, \u001b[33m1\u001b[39m, \u001b[33m1\u001b[39m, \u001b[33m16\u001b[39m, \u001b[33m255\u001b[39m,\n",
       "    \u001b[33m2\u001b[39m, \u001b[33m0\u001b[39m, \u001b[33m20\u001b[39m, \u001b[33m255\u001b[39m, \u001b[33m2\u001b[39m, \u001b[33m0\u001b[39m, \u001b[33m20\u001b[39m, \u001b[33m255\u001b[39m, \u001b[33m1\u001b[39m, \u001b[33m2\u001b[39m, \u001b[33m20\u001b[39m, \u001b[33m255\u001b[39m,\n",
       "    \u001b[33m3\u001b[39m, \u001b[33m1\u001b[39m, \u001b[33m24\u001b[39m, \u001b[33m255\u001b[39m, \u001b[33m3\u001b[39m, \u001b[33m1\u001b[39m, \u001b[33m24\u001b[39m, \u001b[33m255\u001b[39m, \u001b[33m2\u001b[39m, \u001b[33m2\u001b[39m, \u001b[33m18\u001b[39m, \u001b[33m255\u001b[39m,\n",
       "    \u001b[33m2\u001b[39m, \u001b[33m2\u001b[39m, \u001b[33m14\u001b[39m, \u001b[33m255\u001b[39m, \u001b[33m2\u001b[39m, \u001b[33m2\u001b[39m, \u001b[33m20\u001b[39m, \u001b[33m255\u001b[39m, \u001b[33m2\u001b[39m, \u001b[33m2\u001b[39m, \u001b[33m20\u001b[39m, \u001b[33m255\u001b[39m,\n",
       "    \u001b[33m2\u001b[39m, \u001b[33m2\u001b[39m, \u001b[33m20\u001b[39m, \u001b[33m255\u001b[39m,\n",
       "    ... 15270428 more items\n",
       "  ],\n",
       "  width: \u001b[33m2093\u001b[39m,\n",
       "  height: \u001b[33m1824\u001b[39m,\n",
       "  colorSpace: \u001b[32m\"srgb\"\u001b[39m\n",
       "}"
      ]
     },
     "execution_count": 12,
     "metadata": {},
     "output_type": "execute_result"
    },
    {
     "ename": "",
     "evalue": "",
     "output_type": "error",
     "traceback": [
      "\u001b[1;31mThe Kernel crashed while executing code in the current cell or a previous cell. \n",
      "\u001b[1;31mPlease review the code in the cell(s) to identify a possible cause of the failure. \n",
      "\u001b[1;31mClick <a href='https://aka.ms/vscodeJupyterKernelCrash'>here</a> for more info. \n",
      "\u001b[1;31mView Jupyter <a href='command:jupyter.viewOutput'>log</a> for further details."
     ]
    }
   ],
   "source": [
    "const imageWidth = image.getWidth()\n",
    "const imageHeight = image.getHeight()\n",
    "\n",
    "// Each pixel is 4 bytes (r, g, b, a)\n",
    "const pixelBytes = 4\n",
    "const arrayBuffer = new ArrayBuffer(imageWidth * imageHeight * pixelBytes)\n",
    "const pixels = new Uint8ClampedArray(arrayBuffer)\n",
    "\n",
    "for (let i = 0; i < red.length; i++) {\n",
    "  const pixelOffset = i * pixelBytes\n",
    "  pixels[pixelOffset + 0] = redScale(red[i])     // red\n",
    "  pixels[pixelOffset + 1] = greenScale(green[i]) // green\n",
    "  pixels[pixelOffset + 2] = blueScale(blue[i])   // blue\n",
    "  pixels[pixelOffset + 3] = 255                  // alpha\n",
    "}\n",
    "\n",
    "const imageData = new ImageData(pixels, imageWidth, imageHeight);\n",
    "imageData"
   ]
  },
  {
   "cell_type": "code",
   "execution_count": null,
   "metadata": {},
   "outputs": [],
   "source": [
    "// This was working before, now its not 🤷\n",
    "import { createCanvas } from 'jsr:@gfx/canvas'\n",
    "const canvas : HTMLCanvasElement = createCanvas(imageWidth, imageHeight)\n",
    "const ctx = canvas.getContext('2d')!\n",
    "\n",
    "ctx.putImageData(imageData, 0, 0);\n",
    "\n",
    "canvas"
   ]
  }
 ],
 "metadata": {
  "kernelspec": {
   "display_name": "Deno",
   "language": "typescript",
   "name": "deno"
  },
  "language_info": {
   "codemirror_mode": "typescript",
   "file_extension": ".ts",
   "mimetype": "text/x.typescript",
   "name": "typescript",
   "nbconvert_exporter": "script",
   "pygments_lexer": "typescript",
   "version": "5.6.2"
  }
 },
 "nbformat": 4,
 "nbformat_minor": 2
}
